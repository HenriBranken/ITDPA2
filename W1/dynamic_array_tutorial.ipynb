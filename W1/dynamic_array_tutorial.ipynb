{
 "cells": [
  {
   "cell_type": "markdown",
   "id": "85c8de1d",
   "metadata": {},
   "source": [
    "\n",
    "# Build Your Own Dynamic Array (Beginner‑Friendly)\n",
    "\n",
    "In this notebook you'll **recreate a Python list-like data structure** from scratch and watch how it grows.\n",
    "This is a great way to learn about **arrays, resizing, and amortized cost**—all with simple, readable code.\n",
    "\n",
    "### What you'll learn\n",
    "- What a **dynamic array** is and why we need it\n",
    "- How `append` works behind the scenes (capacity doubling)\n",
    "- How to **measure capacity growth** and visualize it\n"
   ]
  },
  {
   "cell_type": "markdown",
   "id": "85396ee2",
   "metadata": {},
   "source": [
    "\n",
    "## 1) Concept: What is a dynamic array?\n",
    "A **dynamic array** starts with a small amount of space (capacity). When you keep adding items with `append`, it eventually **runs out of room**.\n",
    "At that moment, it **allocates a bigger block** (usually **double** the old size), **copies** the old elements into it, and continues.\n",
    "\n",
    "This strategy keeps `append` **fast on average**—even though the occasional resize does extra work.\n"
   ]
  },
  {
   "cell_type": "markdown",
   "id": "7b53d12b",
   "metadata": {},
   "source": [
    "\n",
    "## 2) Starter code\n",
    "Below is the exact class you'll be working with.\n",
    "\n",
    "Run the cell to define `DynamicArray`.\n"
   ]
  },
  {
   "cell_type": "code",
   "execution_count": 1,
   "id": "cbfb4c81",
   "metadata": {},
   "outputs": [],
   "source": [
    "import ctypes  # provides low-level arrays\n",
    "\n",
    "\n",
    "class DynamicArray:\n",
    "    \"\"\"A dynamic array class akin to a simplified Python list.\"\"\"\n",
    "\n",
    "    def __init__(self):\n",
    "        \"\"\"Create an empty array.\"\"\"\n",
    "        self._n = 0                      # count actual elements\n",
    "        self._capacity = 1               # default array capacity\n",
    "        self._A = self._make_array(self._capacity)  # low-level array\n",
    "\n",
    "    def __len__(self):\n",
    "        \"\"\"Return number of elements stored in the array.\"\"\"\n",
    "        return self._n\n",
    "\n",
    "    def __getitem__(self, k):\n",
    "        \"\"\"Return element at index k.\"\"\"\n",
    "        if not 0 <= k < self._n:\n",
    "            raise IndexError('invalid index')\n",
    "        return self._A[k]                # retrieve from array\n",
    "\n",
    "    def append(self, obj):\n",
    "        \"\"\"Add object to end of the array.\"\"\"\n",
    "        if self._n == self._capacity:                # not enough room\n",
    "            self._resize(2 * self._capacity)         # so double capacity\n",
    "        self._A[self._n] = obj\n",
    "        self._n += 1\n",
    "\n",
    "    def _resize(self, c):\n",
    "        \"\"\"Resize internal array to capacity c.\"\"\"\n",
    "        B = self._make_array(c)                      # new (bigger) array\n",
    "        for k in range(self._n):                     # for each existing value\n",
    "            B[k] = self._A[k]\n",
    "        self._A = B                                  # use the bigger array\n",
    "        self._capacity = c\n",
    "\n",
    "    def _make_array(self, c):\n",
    "        \"\"\"Return new array with capacity c.\"\"\"\n",
    "        return (c * ctypes.py_object)()"
   ]
  },
  {
   "cell_type": "markdown",
   "id": "fa3ddf5b",
   "metadata": {},
   "source": [
    "\n",
    "### Quick sanity check\n",
    "Let's exercise the class briefly—this is the same example provided.\n"
   ]
  },
  {
   "cell_type": "code",
   "execution_count": 2,
   "id": "ea599308",
   "metadata": {},
   "outputs": [
    {
     "name": "stdout",
     "output_type": "stream",
     "text": [
      "Length: 10\n",
      "Contents: [0, 1, 2, 3, 4, 5, 6, 7, 8, 9]\n"
     ]
    }
   ],
   "source": [
    "# Example usage (runs without error)\n",
    "if __name__ == \"__main__\":\n",
    "    arr = DynamicArray()\n",
    "    for i in range(10):\n",
    "        arr.append(i)\n",
    "    print(\"Length:\", len(arr))\n",
    "    print(\"Contents:\", [arr[i] for i in range(len(arr))])\n"
   ]
  },
  {
   "cell_type": "markdown",
   "id": "488c9afd",
   "metadata": {},
   "source": [
    "\n",
    "## 3) Peek inside the array\n",
    "To **see** what's happening, we'll make a *debug* version that exposes the current **capacity** and prints a message whenever we resize.\n",
    "> This keeps your original class intact while giving us visibility for learning.\n"
   ]
  },
  {
   "cell_type": "code",
   "execution_count": null,
   "id": "c2f068ea",
   "metadata": {},
   "outputs": [
    {
     "name": "stdout",
     "output_type": "stream",
     "text": [
      "i= 0  len= 1  capacity= 1\n",
      "\n",
      "-----\n",
      "[resize] capacity 1 -> 2\n",
      "-----\n",
      "\n",
      "i= 1  len= 2  capacity= 2\n",
      "\n",
      "-----\n",
      "[resize] capacity 2 -> 4\n",
      "-----\n",
      "\n",
      "i= 2  len= 3  capacity= 4\n",
      "\n",
      "i= 3  len= 4  capacity= 4\n",
      "\n",
      "-----\n",
      "[resize] capacity 4 -> 8\n",
      "-----\n",
      "\n",
      "i= 4  len= 5  capacity= 8\n",
      "\n",
      "i= 5  len= 6  capacity= 8\n",
      "\n",
      "i= 6  len= 7  capacity= 8\n",
      "\n",
      "i= 7  len= 8  capacity= 8\n",
      "\n",
      "-----\n",
      "[resize] capacity 8 -> 16\n",
      "-----\n",
      "\n",
      "i= 8  len= 9  capacity=16\n",
      "\n",
      "i= 9  len=10  capacity=16\n",
      "\n",
      "i=10  len=11  capacity=16\n",
      "\n",
      "i=11  len=12  capacity=16\n",
      "\n",
      "d is now:  [0, 1, 2, 3, 4, 5, 6, 7, 8, 9, 10, 11]\n"
     ]
    }
   ],
   "source": [
    "class DynamicArrayDebug(DynamicArray):\n",
    "    def capacity(self):\n",
    "        \"\"\"Return current capacity (number of slots allocated).\"\"\"\n",
    "        return self._capacity\n",
    "\n",
    "    def _resize(self, c):\n",
    "        print(f\"-----\\n[resize] capacity {self._capacity} -> {c}\\n-----\\n\")\n",
    "        super()._resize(c)\n",
    "\n",
    "\n",
    "d = DynamicArrayDebug()\n",
    "for i in range(12):\n",
    "    d.append(i)\n",
    "    print(f\"i={i:2d}  len={len(d):2d}  capacity={d.capacity():2d}\\n\")\n",
    "print(f\"d is now:  {[d[i] for i in range(len(d))]}\")\n"
   ]
  },
  {
   "cell_type": "markdown",
   "id": "c41b9813",
   "metadata": {},
   "source": [
    "\n",
    "## 4) Record capacity growth\n",
    "Let's systematically record how **capacity** changes as we append many elements.\n"
   ]
  },
  {
   "cell_type": "code",
   "execution_count": 10,
   "id": "1e984da7",
   "metadata": {},
   "outputs": [
    {
     "name": "stdout",
     "output_type": "stream",
     "text": [
      "-----\n",
      "[resize] capacity 1 -> 2\n",
      "-----\n",
      "\n",
      "-----\n",
      "[resize] capacity 2 -> 4\n",
      "-----\n",
      "\n",
      "-----\n",
      "[resize] capacity 4 -> 8\n",
      "-----\n",
      "\n",
      "-----\n",
      "[resize] capacity 8 -> 16\n",
      "-----\n",
      "\n",
      "-----\n",
      "[resize] capacity 16 -> 32\n",
      "-----\n",
      "\n",
      "-----\n",
      "[resize] capacity 32 -> 64\n",
      "-----\n",
      "\n",
      "-----\n",
      "[resize] capacity 64 -> 128\n",
      "-----\n",
      "\n"
     ]
    },
    {
     "data": {
      "text/html": [
       "<div>\n",
       "<style scoped>\n",
       "    .dataframe tbody tr th:only-of-type {\n",
       "        vertical-align: middle;\n",
       "    }\n",
       "\n",
       "    .dataframe tbody tr th {\n",
       "        vertical-align: top;\n",
       "    }\n",
       "\n",
       "    .dataframe thead th {\n",
       "        text-align: right;\n",
       "    }\n",
       "</style>\n",
       "<table border=\"1\" class=\"dataframe\">\n",
       "  <thead>\n",
       "    <tr style=\"text-align: right;\">\n",
       "      <th></th>\n",
       "      <th>step</th>\n",
       "      <th>len</th>\n",
       "      <th>capacity</th>\n",
       "    </tr>\n",
       "  </thead>\n",
       "  <tbody>\n",
       "    <tr>\n",
       "      <th>0</th>\n",
       "      <td>0</td>\n",
       "      <td>0</td>\n",
       "      <td>1</td>\n",
       "    </tr>\n",
       "    <tr>\n",
       "      <th>1</th>\n",
       "      <td>2</td>\n",
       "      <td>2</td>\n",
       "      <td>2</td>\n",
       "    </tr>\n",
       "    <tr>\n",
       "      <th>2</th>\n",
       "      <td>3</td>\n",
       "      <td>3</td>\n",
       "      <td>4</td>\n",
       "    </tr>\n",
       "    <tr>\n",
       "      <th>3</th>\n",
       "      <td>5</td>\n",
       "      <td>5</td>\n",
       "      <td>8</td>\n",
       "    </tr>\n",
       "    <tr>\n",
       "      <th>4</th>\n",
       "      <td>9</td>\n",
       "      <td>9</td>\n",
       "      <td>16</td>\n",
       "    </tr>\n",
       "    <tr>\n",
       "      <th>5</th>\n",
       "      <td>17</td>\n",
       "      <td>17</td>\n",
       "      <td>32</td>\n",
       "    </tr>\n",
       "    <tr>\n",
       "      <th>6</th>\n",
       "      <td>33</td>\n",
       "      <td>33</td>\n",
       "      <td>64</td>\n",
       "    </tr>\n",
       "    <tr>\n",
       "      <th>7</th>\n",
       "      <td>65</td>\n",
       "      <td>65</td>\n",
       "      <td>128</td>\n",
       "    </tr>\n",
       "  </tbody>\n",
       "</table>\n",
       "</div>"
      ],
      "text/plain": [
       "   step  len  capacity\n",
       "0     0    0         1\n",
       "1     2    2         2\n",
       "2     3    3         4\n",
       "3     5    5         8\n",
       "4     9    9        16\n",
       "5    17   17        32\n",
       "6    33   33        64\n",
       "7    65   65       128"
      ]
     },
     "execution_count": 10,
     "metadata": {},
     "output_type": "execute_result"
    }
   ],
   "source": [
    "import pandas as pd\n",
    "\n",
    "def record_growth(n=64):\n",
    "    d = DynamicArrayDebug()\n",
    "    rows = []\n",
    "    last_cap = d.capacity()\n",
    "    rows.append({\"step\": 0, \"len\": len(d), \"capacity\": last_cap})\n",
    "    for i in range(1, n+1):\n",
    "        d.append(i)\n",
    "        cap = d.capacity()\n",
    "        if cap != last_cap:\n",
    "            # log only on capacity change to keep the table small\n",
    "            rows.append({\"step\": i, \"len\": len(d), \"capacity\": cap})\n",
    "            last_cap = cap\n",
    "    return pd.DataFrame(rows)\n",
    "\n",
    "growth_df = record_growth(128)\n",
    "growth_df\n"
   ]
  },
  {
   "cell_type": "markdown",
   "id": "8fbe4f9a",
   "metadata": {},
   "source": [
    "\n",
    "## 5) Visualize the growth\n",
    "We'll make a simple plot of **capacity** against the number of **appends** (step).\n",
    "> Notice the **doubling pattern**.\n"
   ]
  },
  {
   "cell_type": "code",
   "execution_count": 11,
   "id": "1cf743b8",
   "metadata": {},
   "outputs": [
    {
     "data": {
      "image/png": "[encoded data removed]",
      "text/plain": [
       "<Figure size 640x480 with 1 Axes>"
      ]
     },
     "metadata": {},
     "output_type": "display_data"
    }
   ],
   "source": [
    "import matplotlib.pyplot as plt\n",
    "\n",
    "plt.figure()\n",
    "plt.step(growth_df[\"step\"], growth_df[\"capacity\"], where=\"post\")\n",
    "plt.xlabel(\"Appends (step)\")\n",
    "plt.ylabel(\"Capacity\")\n",
    "plt.title(\"Dynamic Array Capacity Growth (Doubling)\")\n",
    "plt.show()\n"
   ]
  },
  {
   "cell_type": "markdown",
   "id": "aae256fd",
   "metadata": {},
   "source": [
    "\n",
    "## 6) Key takeaways\n",
    "- A dynamic array hides the complexity of **resizing** so that `append` is **fast on average**.\n",
    "- When capacity is full, we allocate a **bigger block** (often **double**), copy old items, and continue.\n",
    "- This strategy gives `append` an **amortized O(1)** time complexity, even though individual resizes do extra work.\n"
   ]
  }
 ],
 "metadata": {
  "kernelspec": {
   "display_name": "base",
   "language": "python",
   "name": "python3"
  },
  "language_info": {
   "codemirror_mode": {
    "name": "ipython",
    "version": 3
   },
   "file_extension": ".py",
   "mimetype": "text/x-python",
   "name": "python",
   "nbconvert_exporter": "python",
   "pygments_lexer": "ipython3",
   "version": "3.13.5"
  }
 },
 "nbformat": 4,
 "nbformat_minor": 5
}
