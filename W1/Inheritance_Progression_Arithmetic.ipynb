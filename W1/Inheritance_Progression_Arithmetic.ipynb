{
 "cells": [
  {
   "cell_type": "markdown",
   "id": "5bad63b5",
   "metadata": {},
   "source": [
    "# Inheritance + Iterators: `Progression` → `ArithmeticProgression`\n",
    "\n",
    "A tiny example that shows:\n",
    "- how a subclass reuses and customizes a base class (via **inheritance**),\n",
    "- and how Python's **iterator protocol** works (`__iter__`, `__next__`).    "
   ]
  },
  {
   "cell_type": "markdown",
   "id": "9e295cab",
   "metadata": {},
   "source": [
    "## Big picture\n",
    "- `Progression` is a general iterator that defines how to get the **next** value.\n",
    "- `ArithmeticProgression` **inherits** from `Progression` and overrides `_advance()` to add a fixed increment each step.\n",
    "- Any subclass only needs to define how to **advance**; the iterator mechanics are handled by the base class."
   ]
  },
  {
   "cell_type": "markdown",
   "id": "f13955b0",
   "metadata": {},
   "source": [
    "## Base: `Progression`"
   ]
  },
  {
   "cell_type": "code",
   "execution_count": 1,
   "id": "1ae9962f",
   "metadata": {},
   "outputs": [],
   "source": [
    "class Progression:\n",
    "    \"\"\"Generic progression iterator.\"\"\"\n",
    "\n",
    "    def __init__(self, start=0):\n",
    "        self._current = start\n",
    "\n",
    "    def _advance(self):\n",
    "        \"\"\"Update `_current` to the next value.\n",
    "        Default behavior: +1 each time. Subclasses override this.\n",
    "        \"\"\"\n",
    "        self._current += 1\n",
    "\n",
    "    def __next__(self):\n",
    "        if self._current is None:\n",
    "            raise StopIteration()\n",
    "        answer = self._current\n",
    "        self._advance()\n",
    "        return answer\n",
    "\n",
    "    def __iter__(self):\n",
    "        return self\n",
    "\n",
    "    def print_progression(self, n):\n",
    "        print(' '.join(str(next(self)) for _ in range(n)))\n"
   ]
  },
  {
   "cell_type": "markdown",
   "id": "1eabf2e9",
   "metadata": {},
   "source": [
    "### Demo: plain `Progression` (defaults to +1 each step)"
   ]
  },
  {
   "cell_type": "code",
   "execution_count": 2,
   "id": "0a983ac1",
   "metadata": {},
   "outputs": [
    {
     "name": "stdout",
     "output_type": "stream",
     "text": [
      "3 4 5 6 7\n"
     ]
    }
   ],
   "source": [
    "p = Progression(start=3)  # 3, 4, 5, 6, ...\n",
    "p.print_progression(5)    # prints 5 terms starting at 3\n"
   ]
  },
  {
   "cell_type": "markdown",
   "id": "7f5c5e2d",
   "metadata": {},
   "source": [
    "## Subclass: `ArithmeticProgression`"
   ]
  },
  {
   "cell_type": "code",
   "execution_count": 3,
   "id": "1a752705",
   "metadata": {},
   "outputs": [],
   "source": [
    "class ArithmeticProgression(Progression):\n",
    "    \"\"\"Iterator for arithmetic progression.\"\"\"\n",
    "\n",
    "    def __init__(self, increment=1, start=0):\n",
    "        \"\"\"Initialize progression.\n",
    "        :param increment: fixed constant to add (default 1)\n",
    "        :param start: first term (default 0)\n",
    "        \"\"\"\n",
    "        super().__init__(start)\n",
    "        self._increment = increment\n",
    "\n",
    "    def _advance(self):\n",
    "        \"\"\"Update current value by adding increment.\"\"\"\n",
    "        self._current += self._increment\n"
   ]
  },
  {
   "cell_type": "markdown",
   "id": "69a2f4a4",
   "metadata": {},
   "source": [
    "### Demo: `ArithmeticProgression` with different increments"
   ]
  },
  {
   "cell_type": "code",
   "execution_count": 6,
   "id": "7e63bb00",
   "metadata": {},
   "outputs": [
    {
     "name": "stdout",
     "output_type": "stream",
     "text": [
      "0 5 10 15 20 25\n",
      "3 5 7 9 11 13\n"
     ]
    }
   ],
   "source": [
    "ap1 = ArithmeticProgression(increment=5, start=0)   # 0, 5, 10, 15, ...\n",
    "ap2 = ArithmeticProgression(increment=2, start=3)   # 3, 5, 7, 9, ...\n",
    "ap1.print_progression(6)\n",
    "ap2.print_progression(6)\n"
   ]
  },
  {
   "cell_type": "markdown",
   "id": "e84d3078",
   "metadata": {},
   "source": [
    "## Iterator protocol in action\n",
    "- `iter(obj)` calls `obj.__iter__()` → returns the iterator.\n",
    "- `next(it)` calls `it.__next__()` → returns the next value or raises `StopIteration`.\n",
    "- `for` loops use these under the hood."
   ]
  },
  {
   "cell_type": "code",
   "execution_count": 7,
   "id": "4c8cafe9",
   "metadata": {},
   "outputs": [
    {
     "name": "stdout",
     "output_type": "stream",
     "text": [
      "1\n",
      "4\n",
      "7\n"
     ]
    }
   ],
   "source": [
    "it = iter(ArithmeticProgression(increment=3, start=1))\n",
    "print(next(it))  # 1\n",
    "print(next(it))  # 4\n",
    "print(next(it))  # 7\n"
   ]
  },
  {
   "cell_type": "markdown",
   "id": "6e69021f",
   "metadata": {},
   "source": [
    "## Wrap‑up\n",
    "- The base class handles the iteration mechanics once.\n",
    "- Subclasses override `_advance()` to define a specific sequence behavior.\n",
    "- This pattern scales: you can build `GeometricProgression`, `FibonacciProgression`, etc., by changing only `_advance()`."
   ]
  }
 ],
 "metadata": {
  "kernelspec": {
   "display_name": "base",
   "language": "python",
   "name": "python3"
  },
  "language_info": {
   "codemirror_mode": {
    "name": "ipython",
    "version": 3
   },
   "file_extension": ".py",
   "mimetype": "text/x-python",
   "name": "python",
   "nbconvert_exporter": "python",
   "pygments_lexer": "ipython3",
   "version": "3.13.5"
  }
 },
 "nbformat": 4,
 "nbformat_minor": 5
}
