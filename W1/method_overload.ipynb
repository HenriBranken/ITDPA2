{
  "cells": [
    {
      "cell_type": "markdown",
      "metadata": {},
      "source": [
        "# Adding Points with `+` in Python\n",
        "\n",
        "This tiny notebook shows how **operator overloading** works by giving a custom class the ability to use the `+` operator.\n",
        "\n",
        "**What you'll learn:**\n",
        "- How a simple `Point(x, y)` class is defined\n",
        "- How `__add__` lets you use `a + b`\n",
        "- Why returning `NotImplemented` is helpful\n",
        "- How `__repr__` controls the nice text you see when printing objects\n"
      ]
    },
    {
      "cell_type": "code",
      "execution_count": 1,
      "metadata": {},
      "outputs": [],
      "source": [
        "# Define a simple 2D point and let it support +\n",
        "class Point:\n",
        "    def __init__(self, x, y):\n",
        "        self.x = x\n",
        "        self.y = y\n",
        "\n",
        "    # a + b  ==>  a.__add__(b)\n",
        "    def __add__(self, other):\n",
        "        # If 'other' isn't a Point, let Python try the reverse add (other.__radd__(a))\n",
        "        if not isinstance(other, Point):\n",
        "            return NotImplemented\n",
        "        return Point(self.x + other.x, self.y + other.y)\n",
        "\n",
        "    def __repr__(self):\n",
        "        return f\"Point({self.x}, {self.y})\"\n"
      ]
    },
    {
      "cell_type": "markdown",
      "metadata": {},
      "source": [
        "## Demo: adding and chaining\n",
        "Run the cell below. You'll see that `p1 + p2` returns a **new** `Point`, and chaining works because each `+` produces another `Point`."
      ]
    },
    {
      "cell_type": "code",
      "execution_count": 2,
      "metadata": {},
      "outputs": [
        {
          "name": "stdout",
          "output_type": "stream",
          "text": [
            "Point(6, 4)\n",
            "Point(16, 2)\n"
          ]
        }
      ],
      "source": [
        "# Demo\n",
        "p1 = Point(2, 3)\n",
        "p2 = Point(4, 1)\n",
        "p3 = p1 + p2           # calls p1.__add__(p2)\n",
        "print(p3)              # expected: Point(6, 4)\n",
        "\n",
        "# Chaining works because __add__ returns a new Point\n",
        "print(p1 + p2 + Point(10, -2))  # expected: Point(16, 2)\n"
      ]
    },
    {
      "cell_type": "markdown",
      "metadata": {},
      "source": [
        "## Try it yourself\n",
        "Edit the numbers and re-run to experiment. You can even create more `Point` objects and add them in different orders."
      ]
    },
    {
      "cell_type": "code",
      "execution_count": 3,
      "metadata": {},
      "outputs": [
        {
          "name": "stdout",
          "output_type": "stream",
          "text": [
            "a + b = Point(6, -2)\n",
            "b + c = Point(5, 7)\n",
            "a + b + c = Point(6, 8)\n"
          ]
        }
      ],
      "source": [
        "# Playground — change these values\n",
        "a = Point(1, 1)\n",
        "b = Point(5, -3)\n",
        "c = Point(0, 10)\n",
        "print(\"a + b =\", a + b)\n",
        "print(\"b + c =\", b + c)\n",
        "print(\"a + b + c =\", a + b + c)\n"
      ]
    },
    {
      "cell_type": "markdown",
      "metadata": {},
      "source": [
        "## `__radd__` and mixed-type addition (e.g. `Point + 10`, `10 + Point`)\n",
        "\n",
        "Sometimes you want to add a **number** to a `Point`. To make both `Point + 10` and `10 + Point` work, we:\n",
        "\n",
        "1. Extend `__add__` to handle numbers (treat as adding to both `x` and `y`).\n",
        "2. Implement `__radd__` for the reverse case when the **left** operand doesn't know how to add a `Point`.\n",
        "\n",
        "If an operation isn't supported, we still return `NotImplemented` so Python can try other fallbacks (or raise a clear error)."
      ]
    },
    {
      "cell_type": "code",
      "execution_count": 4,
      "metadata": {},
      "outputs": [],
      "source": [
        "# Upgraded Point with mixed-type addition and __radd__\n",
        "class Point:\n",
        "    def __init__(self, x, y):\n",
        "        self.x = x\n",
        "        self.y = y\n",
        "\n",
        "    def __add__(self, other):\n",
        "        # Point + Point\n",
        "        if isinstance(other, Point):\n",
        "            return Point(self.x + other.x, self.y + other.y)\n",
        "        # Point + number (int/float) => add to both coordinates\n",
        "        if isinstance(other, (int, float)):\n",
        "            return Point(self.x + other, self.y + other)\n",
        "        # Anything else: let Python try the reverse op or fail clearly\n",
        "        return NotImplemented\n",
        "\n",
        "    def __radd__(self, other):\n",
        "        # number + Point should behave like Point + number\n",
        "        if isinstance(other, (int, float)):\n",
        "            return Point(self.x + other, self.y + other)\n",
        "        return NotImplemented\n",
        "\n",
        "    def __repr__(self):\n",
        "        return f\"Point({self.x}, {self.y})\""
      ]
    },
    {
      "cell_type": "markdown",
      "metadata": {},
      "source": [
        "### Demo: numbers on either side, and `sum()`\n",
        "- `Point(2,3) + 10` and `10 + Point(2,3)` both work now.\n",
        "- `sum(points)` will also work because Python starts with `0 + first_point` which triggers `Point.__radd__`."
      ]
    },
    {
      "cell_type": "code",
      "execution_count": 5,
      "metadata": {},
      "outputs": [
        {
          "name": "stdout",
          "output_type": "stream",
          "text": [
            "Point(12, 13)\n",
            "Point(12, 13)\n",
            "Point(9, 5)\n",
            "Point(9, 5)\n"
          ]
        }
      ],
      "source": [
        "p = Point(2, 3)\n",
        "print(p + 10)     # Point(12, 13)\n",
        "print(10 + p)     # Point(12, 13)\n",
        "\n",
        "points = [Point(1, 2), Point(3, 4), Point(5, -1)]\n",
        "print(sum(points))           # Works via __radd__, but see note below\n",
        "print(sum(points, Point(0,0)))  # Explicit start value is clearer and avoids relying on 0\n"
      ]
    },
    {
      "cell_type": "markdown",
      "metadata": {},
      "source": [
        "> **Tip:** Although `sum(points)` works with our `__radd__`, using `sum(points, Point(0, 0))` is more explicit\n",
        "and avoids confusing readers who might not know about the implicit `0 + first_point` step."
      ]
    }
  ],
  "metadata": {
    "created": "2025-09-24 09:27:07",
    "kernelspec": {
      "display_name": "base",
      "language": "python",
      "name": "python3"
    },
    "language_info": {
      "codemirror_mode": {
        "name": "ipython",
        "version": 3
      },
      "file_extension": ".py",
      "mimetype": "text/x-python",
      "name": "python",
      "nbconvert_exporter": "python",
      "pygments_lexer": "ipython3",
      "version": "3.13.5"
    },
    "last_updated": "2025-09-24 09:28:47"
  },
  "nbformat": 4,
  "nbformat_minor": 5
}
