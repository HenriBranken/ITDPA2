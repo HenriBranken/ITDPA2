{
 "cells": [
  {
   "cell_type": "markdown",
   "id": "9e6003b7",
   "metadata": {},
   "source": [
    "# Rebuilding a Tiny `range` (Beginner)\n",
    "\n",
    "In this mini-notebook, we implement a small class that **mimics Python's built‑in `range`**.\n",
    "It stores just a few numbers and **computes elements on demand** (no big list in memory)."
   ]
  },
  {
   "cell_type": "markdown",
   "id": "2fc46a92",
   "metadata": {},
   "source": [
    "## What you'll see\n",
    "- How `__init__` computes the sequence size once.\n",
    "- How `__len__` and `__getitem__` make an object behave like a sequence.\n",
    "- Negative indexing support (e.g., `r[-1]`).\n",
    "\n",
    "**Note:** This minimal version assumes a **positive `step`** (like `1`, `2`, ...)."
   ]
  },
  {
   "cell_type": "code",
   "execution_count": 1,
   "id": "2b0963bc",
   "metadata": {},
   "outputs": [],
   "source": [
    "# Minimal Range that supports positive step sizes\n",
    "class Range:\n",
    "    \"\"\"A class that mimics the built-in range class (positive step only).\"\"\"\n",
    "\n",
    "    def __init__(self, start, stop=None, step=1):\n",
    "        if step == 0:\n",
    "            raise ValueError('step cannot be 0')\n",
    "        if stop is None:\n",
    "            start, stop = 0, start\n",
    "\n",
    "        # length for positive step; empty if bounds make no sense\n",
    "        self._length = max(0, (stop - start + step - 1) // step)\n",
    "        self._start = start\n",
    "        self._step = step\n",
    "\n",
    "    def __len__(self):\n",
    "        return self._length\n",
    "\n",
    "    def __getitem__(self, k):\n",
    "        # allow negative indices\n",
    "        if k < 0:\n",
    "            k += len(self)\n",
    "        if not 0 <= k < self._length:\n",
    "            raise IndexError('index out of range')\n",
    "        return self._start + k * self._step\n"
   ]
  },
  {
   "cell_type": "markdown",
   "id": "af877404",
   "metadata": {},
   "source": [
    "## How it works\n",
    "- **Constructor** computes `_length` once using integer math (no loops).\n",
    "- **`__len__`** lets `len(r)` work.\n",
    "- **`__getitem__`** returns the *k*‑th element and raises `IndexError` when out of bounds.\n",
    "- Because we have `__len__` and `__getitem__`, you can iterate over `Range` in a `for` loop."
   ]
  },
  {
   "cell_type": "markdown",
   "id": "0b56f763",
   "metadata": {},
   "source": [
    "## Demo"
   ]
  },
  {
   "cell_type": "code",
   "execution_count": null,
   "id": "2011d85e",
   "metadata": {},
   "outputs": [
    {
     "name": "stdout",
     "output_type": "stream",
     "text": [
      "Basic forms like built-in range:\n",
      "list(Range(5))         -> [0, 1, 2, 3, 4]\n",
      "list(Range(2, 7))      -> [2, 3, 4, 5, 6]\n",
      "list(Range(2, 10, 3))  -> [2, 5, 8]\n",
      "\n",
      "len(r) -> 3\n",
      "r[0], r[1], r[2] -> 2 5 8\n",
      "r[-1] (last) -> 8\n",
      "\n",
      "Iterating works (sequence protocol):\n",
      "sum of r -> 15\n"
     ]
    }
   ],
   "source": [
    "print('Basic forms like built-in range:')\n",
    "print('list(Range(5))         ->', list(Range(5)))\n",
    "print('list(Range(2, 7))      ->', list(Range(2, 7)))\n",
    "print('list(Range(2, 10, 3))  ->', list(Range(2, 10, 3)))\n",
    "\n",
    "r = Range(2, 10, 3)   # elements: 2, 5, 8\n",
    "print('\\nlen(r) ->', len(r))\n",
    "print('r[0], r[1], r[2] ->', r[0], r[1], r[2])\n",
    "print('r[-1] (last) ->', r[-1])\n",
    "\n",
    "print('\\nIterating works (sequence protocol):')\n",
    "total = 0\n",
    "for x in r:\n",
    "    total += x\n",
    "print('sum of r ->', total)\n"
   ]
  },
  {
   "cell_type": "markdown",
   "id": "1f75a1de",
   "metadata": {},
   "source": [
    "## Edge cases"
   ]
  },
  {
   "cell_type": "code",
   "execution_count": 3,
   "id": "809070e0",
   "metadata": {},
   "outputs": [
    {
     "name": "stdout",
     "output_type": "stream",
     "text": [
      "Empty when start >= stop with positive step:\n",
      "list(Range(10, 2, 3)) -> []\n",
      "\n",
      "IndexError example:\n",
      "Caught: index out of range\n"
     ]
    }
   ],
   "source": [
    "print('Empty when start >= stop with positive step:')\n",
    "print('list(Range(10, 2, 3)) ->', list(Range(10, 2, 3)))\n",
    "\n",
    "print('\\nIndexError example:')\n",
    "try:\n",
    "    print(Range(3)[5])\n",
    "except IndexError as e:\n",
    "    print('Caught:', e)"
   ]
  }
 ],
 "metadata": {
  "kernelspec": {
   "display_name": "base",
   "language": "python",
   "name": "python3"
  },
  "language_info": {
   "codemirror_mode": {
    "name": "ipython",
    "version": 3
   },
   "file_extension": ".py",
   "mimetype": "text/x-python",
   "name": "python",
   "nbconvert_exporter": "python",
   "pygments_lexer": "ipython3",
   "version": "3.13.5"
  }
 },
 "nbformat": 4,
 "nbformat_minor": 5
}
