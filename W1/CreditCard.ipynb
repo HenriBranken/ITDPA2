{
 "cells": [
  {
   "cell_type": "markdown",
   "id": "ac54640d",
   "metadata": {},
   "source": [
    "# Beginner OOP: Building a `CreditCard` Class\n",
    "\n",
    "Welcome! In this notebook, you'll learn the basics of Python classes by exploring a small `CreditCard` example.\n"
   ]
  },
  {
   "cell_type": "markdown",
   "id": "2182fb78",
   "metadata": {},
   "source": [
    "## Learning Objectives\n",
    "- Understand how to define a class and its constructor (`__init__`).\n",
    "- Use instance attributes (like `_balance`) and instance methods.\n",
    "- See how methods can return values (like `True/False`).\n",
    "- Practice extending a class with new features."
   ]
  },
  {
   "cell_type": "markdown",
   "id": "61a05255",
   "metadata": {},
   "source": [
    "## What You'll Build\n",
    "We'll start with a small `CreditCard` class that tracks customer info, a spending limit, and a running balance. Then, you'll add a few useful methods of your own.\n"
   ]
  },
  {
   "cell_type": "code",
   "execution_count": 1,
   "id": "e95e1f2f",
   "metadata": {},
   "outputs": [
    {
     "name": "stdout",
     "output_type": "stream",
     "text": [
      "Python version: 3.13.5 | packaged by Anaconda, Inc. | (main, Jun 12 2025, 16:37:03) [MSC v.1929 64 bit (AMD64)]\n"
     ]
    }
   ],
   "source": [
    "import sys\n",
    "print('Python version:', sys.version)\n"
   ]
  },
  {
   "cell_type": "markdown",
   "id": "0f562c31",
   "metadata": {},
   "source": [
    "## Starter Code (Given)\n",
    "Here's the original class code we are starting from:\n",
    "\n",
    "```python\n",
    "class CreditCard:\n",
    "    \"\"\"Represents a credit card.\"\"\"\n",
    "\n",
    "    def __init__(self, customer, bank, acnt, limit):\n",
    "        \"\"\"Initializes credit card.\"\"\"\n",
    "        self._customer = customer\n",
    "        self._bank = bank\n",
    "        self._account = acnt\n",
    "        self._limit = limit\n",
    "        self._balance = 0\n",
    "\n",
    "    def get_customer(self):\n",
    "        \"\"\"Returns customer name.\"\"\"\n",
    "        return self._customer\n",
    "\n",
    "    def charge(self, price):\n",
    "        \"\"\"Charges price to card.\"\"\"\n",
    "        if price + self._balance > self._limit:\n",
    "            return False\n",
    "        else:\n",
    "            self._balance += price\n",
    "            return True\n",
    "```\n",
    "\n",
    "Notice the leading underscores (e.g., `_balance`). In Python, this is a **convention** that suggests these attributes are considered \"internal\" to the class. They can still be accessed from the outside, but you **shouldn't** unless you have a good reason.\n"
   ]
  },
  {
   "cell_type": "code",
   "execution_count": null,
   "id": "23378707",
   "metadata": {},
   "outputs": [],
   "source": [
    "# Run this cell to define the CreditCard class in the notebook session.\n",
    "class CreditCard:\n",
    "    \"\"\"Represents a credit card.\"\"\"\n",
    "\n",
    "    def __init__(self, customer, bank, acnt, limit):\n",
    "        \"\"\"Initializes credit card.\"\"\"\n",
    "        self._customer = customer\n",
    "        self._bank = bank\n",
    "        self._account = acnt\n",
    "        self._limit = limit\n",
    "        self._balance = 0\n",
    "\n",
    "    def get_customer(self):\n",
    "        \"\"\"Returns customer name.\"\"\"\n",
    "        return self._customer\n",
    "\n",
    "    def charge(self, price):\n",
    "        \"\"\"Charges price to card if it doesn't exceed the limit.\n",
    "        Returns True if the charge is approved, otherwise False.\n",
    "        \"\"\"\n",
    "        if price + self._balance > self._limit:\n",
    "            return False\n",
    "        else:\n",
    "            self._balance += price\n",
    "            return True\n"
   ]
  },
  {
   "cell_type": "markdown",
   "id": "1abbb94e",
   "metadata": {},
   "source": [
    "## Quick Demo\n",
    "Let's create a card and try a couple of charges."
   ]
  },
  {
   "cell_type": "code",
   "execution_count": null,
   "id": "dfe80d72",
   "metadata": {},
   "outputs": [],
   "source": [
    "card = CreditCard(customer='Alice', bank='FNB', acnt='1234 5678 9012 3456', limit=500)\n",
    "print('Customer:', card.get_customer())\n",
    "\n",
    "print('Charge 100 approved? ', card.charge(100))\n",
    "print('Charge 450 approved? ', card.charge(450))  # This should be False because 100+450 > 500\n",
    "\n",
    "print('Current balance (accessing _balance for demo):', card._balance)  # Not recommended in real code\n"
   ]
  },
  {
   "cell_type": "markdown",
   "id": "5969ec99",
   "metadata": {},
   "source": [
    "## Exercises: Extend the Class\n",
    "Complete the following tasks by editing the class definition cell above and re-running it.\n",
    "\n",
    "1. **Add a `get_balance(self)` method** that returns the current balance.\n",
    "2. **Add a `get_limit(self)` method** that returns the credit limit.\n",
    "3. **Add a `make_payment(self, amount)` method** that reduces the balance by `amount` (but never below 0). Return the new balance.\n",
    "4. **(Optional)** Add a `__str__(self)` method that returns a friendly string like `'CreditCard(Alice, bank=FNB, balance=100, limit=500)'`.\n",
    "\n",
    "**Tip:** After you add or change methods, re-run the class definition cell to update the class in memory."
   ]
  },
  {
   "cell_type": "markdown",
   "id": "1be5eb00",
   "metadata": {},
   "source": [
    "### Test Your Work\n",
    "Run the tests below after you've implemented the methods."
   ]
  },
  {
   "cell_type": "code",
   "execution_count": null,
   "id": "64c9f120",
   "metadata": {},
   "outputs": [],
   "source": [
    "# Rerun this cell after you finish the exercises.\n",
    "try:\n",
    "    cc = CreditCard('Bob', 'Nedbank', '9999 0000 1111 2222', 300)\n",
    "    assert cc.charge(150) is True\n",
    "    assert cc.charge(200) is False  # would exceed 300\n",
    "\n",
    "    # Exercise 1\n",
    "    get_bal = getattr(cc, 'get_balance', None)\n",
    "    assert callable(get_bal), 'You need to write get_balance(self).'\n",
    "    assert cc.get_balance() == 150\n",
    "\n",
    "    # Exercise 2\n",
    "    get_lim = getattr(cc, 'get_limit', None)\n",
    "    assert callable(get_lim), 'You need to write get_limit(self).'\n",
    "    assert cc.get_limit() == 300\n",
    "\n",
    "    # Exercise 3\n",
    "    make_pay = getattr(cc, 'make_payment', None)\n",
    "    assert callable(make_pay), 'You need to write make_payment(self, amount).'\n",
    "    cc.make_payment(40)\n",
    "    assert cc.get_balance() == 110\n",
    "    cc.make_payment(9999)  # should not go below zero\n",
    "    assert cc.get_balance() == 0\n",
    "\n",
    "    print('✅ All tests passed! Great job!')\n",
    "except AssertionError as e:\n",
    "    print('❌ Test failed:', e)\n"
   ]
  },
  {
   "cell_type": "markdown",
   "id": "9b58b92e",
   "metadata": {},
   "source": [
    "## Bonus Practice\n",
    "- Add a method `available_credit(self)` that returns how much more can be charged (limit minus balance).\n",
    "- Write a small function `simulate_purchases(card, prices)` that tries to charge each price in a list and counts how many succeeded.\n",
    "- Add basic input validation: make sure `make_payment` and `charge` only accept non-negative numbers.\n"
   ]
  },
  {
   "cell_type": "markdown",
   "id": "71b05441",
   "metadata": {},
   "source": [
    "<details>\n",
    "<summary><strong>Click to reveal example solutions</strong></summary>\n",
    "\n",
    "```python\n",
    "class CreditCard:\n",
    "    \"\"\"Represents a credit card.\"\"\"\n",
    "\n",
    "    def __init__(self, customer, bank, acnt, limit):\n",
    "        \"\"\"Initializes credit card.\"\"\"\n",
    "        self._customer = customer\n",
    "        self._bank = bank\n",
    "        self._account = acnt\n",
    "        self._limit = limit\n",
    "        self._balance = 0\n",
    "\n",
    "    def get_customer(self):\n",
    "        \"\"\"Returns customer name.\"\"\"\n",
    "        return self._customer\n",
    "\n",
    "    def charge(self, price):\n",
    "        \"\"\"Charges price to card if it doesn't exceed the limit.\n",
    "        Returns True if the charge is approved, otherwise False.\n",
    "        \"\"\"\n",
    "        if price < 0:\n",
    "            raise ValueError('price must be non-negative')\n",
    "        if price + self._balance > self._limit:\n",
    "            return False\n",
    "        else:\n",
    "            self._balance += price\n",
    "            return True\n",
    "\n",
    "    # Exercise 1\n",
    "    def get_balance(self):\n",
    "        return self._balance\n",
    "\n",
    "    # Exercise 2\n",
    "    def get_limit(self):\n",
    "        return self._limit\n",
    "\n",
    "    # Exercise 3\n",
    "    def make_payment(self, amount):\n",
    "        if amount < 0:\n",
    "            raise ValueError('amount must be non-negative')\n",
    "        self._balance = max(0, self._balance - amount)\n",
    "        return self._balance\n",
    "\n",
    "    # Bonus\n",
    "    def available_credit(self):\n",
    "        return self._limit - self._balance\n",
    "\n",
    "    def __str__(self):\n",
    "        return f\"CreditCard({self._customer}, bank={self._bank}, balance={self._balance}, limit={self._limit})\"\n",
    "```\n",
    "\n",
    "```python\n",
    "def simulate_purchases(card, prices):\n",
    "    count = 0\n",
    "    for p in prices:\n",
    "        if card.charge(p):\n",
    "            count += 1\n",
    "    return count\n",
    "```\n",
    "</details>\n"
   ]
  }
 ],
 "metadata": {
  "kernelspec": {
   "display_name": "base",
   "language": "python",
   "name": "python3"
  },
  "language_info": {
   "codemirror_mode": {
    "name": "ipython",
    "version": 3
   },
   "file_extension": ".py",
   "mimetype": "text/x-python",
   "name": "python",
   "nbconvert_exporter": "python",
   "pygments_lexer": "ipython3",
   "version": "3.13.5"
  }
 },
 "nbformat": 4,
 "nbformat_minor": 5
}
